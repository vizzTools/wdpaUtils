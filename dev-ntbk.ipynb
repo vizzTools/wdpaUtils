{
 "cells": [
  {
   "cell_type": "code",
   "execution_count": 1,
   "metadata": {},
   "outputs": [
    {
     "name": "stdout",
     "output_type": "stream",
     "text": [
      "WDPA Utils ver. 0.0.1 ready!\n"
     ]
    }
   ],
   "source": [
    "!python setup.py develop \n",
    "from IPython.display import clear_output\n",
    "clear_output()\n",
    "import wdpaUtils as wu\n",
    "print(f'WDPA Utils ver. {wu.__version__} ready!')"
   ]
  },
  {
   "cell_type": "code",
   "execution_count": null,
   "metadata": {},
   "outputs": [],
   "source": [
    "from datetime import datetime, date\n",
    "\n",
    "class ProtectedAreas:\n",
    "    def __init__(self):\n",
    "        \n",
    "        self.created_date = self.getDate()\n",
    "\n",
    "    \n",
    "    def getDate(date_format= '%Y-%m-%d %H:%M:%S'): \n",
    "        pa_date = datetime.now()\n",
    "        return date.strftime(pa_date, '%Y-%m-%d %H:%M:%S')\n",
    "    \n",
    "    \n",
    "    \n",
    "        \n",
    "        \n",
    "    \n",
    "    "
   ]
  },
  {
   "cell_type": "code",
   "execution_count": null,
   "metadata": {},
   "outputs": [],
   "source": [
    "pa = ProtectedAreas()"
   ]
  },
  {
   "cell_type": "code",
   "execution_count": 2,
   "metadata": {},
   "outputs": [],
   "source": [
    "pa = wu.ProtectedAreas()"
   ]
  },
  {
   "cell_type": "code",
   "execution_count": 3,
   "metadata": {},
   "outputs": [
    {
     "data": {
      "text/plain": [
       "'2021-02-11 12:17:38'"
      ]
     },
     "execution_count": 3,
     "metadata": {},
     "output_type": "execute_result"
    }
   ],
   "source": [
    "pa.created_date"
   ]
  },
  {
   "cell_type": "code",
   "execution_count": null,
   "metadata": {},
   "outputs": [],
   "source": []
  }
 ],
 "metadata": {
  "kernelspec": {
   "display_name": "Python 3",
   "language": "python",
   "name": "python3"
  },
  "language_info": {
   "codemirror_mode": {
    "name": "ipython",
    "version": 3
   },
   "file_extension": ".py",
   "mimetype": "text/x-python",
   "name": "python",
   "nbconvert_exporter": "python",
   "pygments_lexer": "ipython3",
   "version": "3.7.4"
  }
 },
 "nbformat": 4,
 "nbformat_minor": 4
}
